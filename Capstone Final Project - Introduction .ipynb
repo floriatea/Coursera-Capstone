{
    "cells": [
        {
            "cell_type": "markdown",
            "metadata": {
                "collapsed": true
            },
            "source": "#                   Comparing between NY and Boston & Explore the Neighborhood of Boston "
        },
        {
            "cell_type": "markdown",
            "metadata": {},
            "source": "***Flower Yang***"
        },
        {
            "cell_type": "markdown",
            "metadata": {},
            "source": "***\n\n## **1. Introduction and Project Idea**\n\nBoston city, capital of the commonwealth of Massachusetts, and seat of Suffolk county, in the northeastern United States. It lies on Massachusetts Bay, an arm of the Atlantic Ocean. The city proper has an unusually small area for a major city, and more than one-fourth of the total\u2014including part of the Charles River, Boston Harbor, and a portion of the Atlantic\u2014is water. With an area of 89.63 mi\u00b2 and a population of 694,583, it is a metro area that is very comparable with New York City, and also a city that harbors many prestigious universities. In this Project, I will be comparing the difference between New York City and Boston in the ways that they are similar and dissimilar to each other. Further, I will be exploring the neiborhood of Boston to see what location is the best for opening a brand new coffee shop.\n\n\nDemographic Info :https://www.britannica.com/place/Boston#/media/1/74844/97698\n\n\n#### Target Audience \n\n* For Those \n\n\n\n***\n\n<img src=\"https://cdn.britannica.com/66/93866-050-64944EF0/Skyline-Boston.jpg\" >"
        },
        {
            "cell_type": "markdown",
            "metadata": {},
            "source": "***\n\n## **2. Data Processing**\n\nIn this Project, I will be using Fouresqure API (Including location data and explore) and perform data cleaning based on the type of data used.\n\n\n\n#### To Search for a specific venue category\nE.X:\n> `https://api.foursquare.com/v2/venues/`**search**`?client_id=`**CLIENT_ID**`&client_secret=`**CLIENT_SECRET**`&ll=`**LATITUDE**`,`**LONGITUDE**`&v=`**VERSION**`&query=`**QUERY**`&radius=`**RADIUS**`&limit=`**LIMIT**\n>\n\n#### To Explore a Given Venue\nE.X:\n> `https://api.foursquare.com/v2/venues/`**VENUE_ID**`?client_id=`**CLIENT_ID**`&client_secret=`**CLIENT_SECRET**`&v=`**VERSION**\n\n***"
        },
        {
            "cell_type": "markdown",
            "metadata": {},
            "source": "\n\n## **3. Method**\n\nFor this Project, I will be using different testing algorithm to determine the best predication model and use Foursqure location data to explore the neighborhood.\n\n* K Nearest Neighbor(KNN)\n* Support Vector Machine\n\n***"
        },
        {
            "cell_type": "markdown",
            "metadata": {},
            "source": "## **4. Conclusion**\n\nAt the end of the project, I will analyze and conclude my findings\n\n***"
        }
    ],
    "metadata": {
        "kernelspec": {
            "display_name": "Python 3.6",
            "language": "python",
            "name": "python3"
        },
        "language_info": {
            "codemirror_mode": {
                "name": "ipython",
                "version": 3
            },
            "file_extension": ".py",
            "mimetype": "text/x-python",
            "name": "python",
            "nbconvert_exporter": "python",
            "pygments_lexer": "ipython3",
            "version": "3.6.9"
        }
    },
    "nbformat": 4,
    "nbformat_minor": 1
}